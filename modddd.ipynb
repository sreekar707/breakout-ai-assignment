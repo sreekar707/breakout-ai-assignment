{
 "cells": [
  {
   "cell_type": "code",
   "execution_count": 1,
   "metadata": {},
   "outputs": [],
   "source": [
    "import pandas as pd\n",
    "import numpy as np\n",
    "import seaborn as sns\n",
    "import matplotlib.pyplot as plt\n",
    "from sklearn.ensemble import RandomForestRegressor\n",
    "from sklearn.model_selection import train_test_split, GridSearchCV, RandomizedSearchCV\n",
    "from sklearn.metrics import mean_squared_error, mean_absolute_error"
   ]
  },
  {
   "cell_type": "code",
   "execution_count": 2,
   "metadata": {},
   "outputs": [],
   "source": [
    "def load_data(file_path):\n",
    "    data = pd.read_csv(file_path)\n",
    "    return data\n",
    "\n",
    "def clean_data(data):\n",
    "    # Check for missing values\n",
    "    if data.isnull().sum().any():\n",
    "        data = data.fillna(method='ffill')  # Forward fill as an example, adjust based on domain knowledge\n",
    "        data = data.fillna(data.median(numeric_only=True))\n",
    "        print(\"Missing values filled.\")\n",
    "    numeric_data = data.select_dtypes(include=[np.number])\n",
    "    # Check for outliers - using z-score for example\n",
    "    z_scores = np.abs((numeric_data - numeric_data.mean()) / numeric_data.std())\n",
    "    data = data[(z_scores < 3).all(axis=1)]  # Remove rows with any z-score > 3\n",
    "    \n",
    "    return data"
   ]
  },
  {
   "cell_type": "code",
   "execution_count": 3,
   "metadata": {},
   "outputs": [],
   "source": [
    "def train_model(data):\n",
    "    X = data[['Days_Since_High_Last_7_Days', '%_Diff_From_High_Last_7_Days',\n",
    "              'Days_Since_Low_Last_7_Days', '%_Diff_From_Low_Last_7_Days']]\n",
    "    y = data[['%_Diff_From_High_Next_5_Days', '%_Diff_From_Low_Next_5_Days']]\n",
    "    \n",
    "    X_train, X_test, y_train, y_test = train_test_split(X, y, test_size=0.2, random_state=42)\n",
    "    \n",
    "    # Initial model training\n",
    "    model = RandomForestRegressor(n_estimators=100, random_state=42)\n",
    "    model.fit(X_train, y_train)\n",
    "    \n",
    "    # Model evaluation\n",
    "    y_pred = model.predict(X_test)\n",
    "    mse = mean_squared_error(y_test, y_pred)\n",
    "    mae = mean_absolute_error(y_test, y_pred)\n",
    "    \n",
    "    print(f\"Initial Model - Mean Squared Error: {mse}\")\n",
    "    print(f\"Initial Model - Mean Absolute Error: {mae}\")\n",
    "    \n",
    "    return model, X_train, y_train"
   ]
  },
  {
   "cell_type": "code",
   "execution_count": 4,
   "metadata": {},
   "outputs": [],
   "source": [
    "def tune_model(X_train, y_train):\n",
    "    param_grid = {\n",
    "        'n_estimators': [50, 100, 200],\n",
    "        'max_depth': [None, 10, 20, 30],\n",
    "        'min_samples_split': [2, 5, 10],\n",
    "        'min_samples_leaf': [1, 2, 4],\n",
    "        'max_features': [ 'sqrt', 'log2']\n",
    "    }\n",
    "    \n",
    "    rf = RandomForestRegressor(random_state=42)\n",
    "    grid_search = GridSearchCV(estimator=rf, param_grid=param_grid, \n",
    "                               scoring='neg_mean_squared_error', cv=3, verbose=2, n_jobs=-1)\n",
    "    grid_search.fit(X_train, y_train)\n",
    "    \n",
    "    print(f\"Best Hyperparameters: {grid_search.best_params_}\")\n",
    "    print(f\"Best Model Score: {-grid_search.best_score_}\")\n",
    "    \n",
    "    return grid_search.best_estimator_"
   ]
  },
  {
   "cell_type": "code",
   "execution_count": 5,
   "metadata": {},
   "outputs": [],
   "source": [
    "def predict_outcomes(model, feature_values):\n",
    "    return model.predict([feature_values])[0]"
   ]
  },
  {
   "cell_type": "code",
   "execution_count": 6,
   "metadata": {},
   "outputs": [
    {
     "name": "stderr",
     "output_type": "stream",
     "text": [
      "C:\\Users\\Sreekar B Krishna\\AppData\\Local\\Temp\\ipykernel_5260\\4198386293.py:8: FutureWarning: DataFrame.fillna with 'method' is deprecated and will raise in a future version. Use obj.ffill() or obj.bfill() instead.\n",
      "  data = data.fillna(method='ffill')  # Forward fill as an example, adjust based on domain knowledge\n"
     ]
    },
    {
     "name": "stdout",
     "output_type": "stream",
     "text": [
      "Missing values filled.\n",
      "Initial Model - Mean Squared Error: 20.68507292721813\n",
      "Initial Model - Mean Absolute Error: 3.4823547571038667\n",
      "Fitting 3 folds for each of 216 candidates, totalling 648 fits\n",
      "Best Hyperparameters: {'max_depth': 10, 'max_features': 'sqrt', 'min_samples_leaf': 4, 'min_samples_split': 2, 'n_estimators': 50}\n",
      "Best Model Score: 21.85991998800142\n",
      "Predicted values: [-7.25567124  3.99861909]\n"
     ]
    },
    {
     "name": "stderr",
     "output_type": "stream",
     "text": [
      "c:\\muV recommend\\venvv\\lib\\site-packages\\numpy\\ma\\core.py:2881: RuntimeWarning: invalid value encountered in cast\n",
      "  _data = np.array(data, dtype=dtype, copy=copy,\n",
      "c:\\muV recommend\\venvv\\lib\\site-packages\\sklearn\\base.py:493: UserWarning: X does not have valid feature names, but RandomForestRegressor was fitted with feature names\n",
      "  warnings.warn(\n"
     ]
    }
   ],
   "source": [
    "# Load and clean data\n",
    "file_path = './crypto_data_with_metrics.csv'\n",
    "data = load_data(file_path)\n",
    "data = clean_data(data)\n",
    "\n",
    "# Train and tune model\n",
    "model, X_train, y_train = train_model(data)\n",
    "best_model = tune_model(X_train, y_train)\n",
    "\n",
    "# Make predictions\n",
    "example_features = [1,-0.96, 2,3.04]  # Replace with actual input values as needed 6.0,-1.3167707520907155,1668.69,6.0\n",
    "# 1, -0.96, 2, 3.04\n",
    "prediction = predict_outcomes(best_model, example_features)\n",
    "print(f\"Predicted values: {prediction}\")"
   ]
  }
 ],
 "metadata": {
  "kernelspec": {
   "display_name": "Python 3",
   "language": "python",
   "name": "python3"
  },
  "language_info": {
   "codemirror_mode": {
    "name": "ipython",
    "version": 3
   },
   "file_extension": ".py",
   "mimetype": "text/x-python",
   "name": "python",
   "nbconvert_exporter": "python",
   "pygments_lexer": "ipython3",
   "version": "3.10.0"
  }
 },
 "nbformat": 4,
 "nbformat_minor": 4
}
